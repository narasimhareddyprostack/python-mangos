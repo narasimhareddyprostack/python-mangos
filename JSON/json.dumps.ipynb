{
 "cells": [
  {
   "cell_type": "code",
   "execution_count": 1,
   "id": "1a4b8890",
   "metadata": {},
   "outputs": [
    {
     "name": "stdout",
     "output_type": "stream",
     "text": [
      "<class 'dict'>\n"
     ]
    }
   ],
   "source": [
    "product = {\n",
    "    'id':'p101',\n",
    "    'pName':'iphone 12',\n",
    "    'availabilty':True,\n",
    "    'brand':None\n",
    "}\n",
    "\n",
    "\n",
    "print(type(product))\n",
    "\n"
   ]
  },
  {
   "cell_type": "code",
   "execution_count": 4,
   "id": "f36b4dc1",
   "metadata": {},
   "outputs": [
    {
     "name": "stdout",
     "output_type": "stream",
     "text": [
      "{\"id\": \"p101\", \"pName\": \"iphone 12\", \"availabilty\": true, \"brand\": null}\n"
     ]
    }
   ],
   "source": [
    "import json \n",
    "product_dict = {\n",
    "    'id':'p101',\n",
    "    'pName':'iphone 12',\n",
    "    'availabilty':True,\n",
    "    'brand':None\n",
    "}\n",
    "\n",
    "product_json = json.dumps(product_dict)\n",
    "\n",
    "print(product_json)\n"
   ]
  },
  {
   "cell_type": "code",
   "execution_count": null,
   "id": "a61d722e",
   "metadata": {},
   "outputs": [],
   "source": []
  }
 ],
 "metadata": {
  "kernelspec": {
   "display_name": "Python 3 (ipykernel)",
   "language": "python",
   "name": "python3"
  },
  "language_info": {
   "codemirror_mode": {
    "name": "ipython",
    "version": 3
   },
   "file_extension": ".py",
   "mimetype": "text/x-python",
   "name": "python",
   "nbconvert_exporter": "python",
   "pygments_lexer": "ipython3",
   "version": "3.7.0"
  }
 },
 "nbformat": 4,
 "nbformat_minor": 5
}
