{
 "cells": [
  {
   "cell_type": "code",
   "execution_count": 2,
   "id": "7b2b3a5b",
   "metadata": {},
   "outputs": [
    {
     "name": "stdout",
     "output_type": "stream",
     "text": [
      "\n",
      "        {\n",
      "\t\"id\": 101,\n",
      "\t\"name\": \"Rahul\",\n",
      "\t\"sal\": 45000\n",
      "        }\n",
      "\n",
      "     \n"
     ]
    }
   ],
   "source": [
    "#convert json object python dict \n",
    "\n",
    "emp = '''\n",
    "        {\n",
    "\t\"id\": 101,\n",
    "\t\"name\": \"Rahul\",\n",
    "\t\"sal\": 45000\n",
    "        }\n",
    "\n",
    "     '''\n",
    "print(emp)"
   ]
  },
  {
   "cell_type": "code",
   "execution_count": 5,
   "id": "84945477",
   "metadata": {},
   "outputs": [
    {
     "name": "stdout",
     "output_type": "stream",
     "text": [
      "<class 'dict'>\n",
      "{'id': 101, 'name': 'Rahul', 'sal': 45000}\n"
     ]
    }
   ],
   "source": [
    "# convert json string object ot pytyon dict\n",
    "import json \n",
    "\n",
    "\n",
    "emp = '''\n",
    "        {\n",
    "\t\"id\": 101,\n",
    "\t\"name\": \"Rahul\",\n",
    "\t\"sal\": 45000\n",
    "        }\n",
    "     '''\n",
    "emp_dict = json.loads(emp)\n",
    "\n",
    "print(type(emp_dict))\n",
    "print(emp_dict)"
   ]
  },
  {
   "cell_type": "code",
   "execution_count": 6,
   "id": "7ce174b1",
   "metadata": {},
   "outputs": [
    {
     "name": "stdout",
     "output_type": "stream",
     "text": [
      "{\"id\": 101, \"name\": \"Rahul\", \"sal\": 45000}\n"
     ]
    }
   ],
   "source": [
    "emp_dict = {'id': 101, 'name': 'Rahul', 'sal': 45000}\n",
    "#convert python dict to json string object\n",
    "\n",
    "import json \n",
    "\n",
    "emp_json = json.dumps(emp_dict)\n",
    "\n",
    "print(emp_json)"
   ]
  },
  {
   "cell_type": "code",
   "execution_count": null,
   "id": "5ccd50e6",
   "metadata": {},
   "outputs": [],
   "source": []
  }
 ],
 "metadata": {
  "kernelspec": {
   "display_name": "Python 3 (ipykernel)",
   "language": "python",
   "name": "python3"
  },
  "language_info": {
   "codemirror_mode": {
    "name": "ipython",
    "version": 3
   },
   "file_extension": ".py",
   "mimetype": "text/x-python",
   "name": "python",
   "nbconvert_exporter": "python",
   "pygments_lexer": "ipython3",
   "version": "3.7.0"
  }
 },
 "nbformat": 4,
 "nbformat_minor": 5
}
