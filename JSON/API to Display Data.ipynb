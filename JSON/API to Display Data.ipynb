{
 "cells": [
  {
   "cell_type": "code",
   "execution_count": 9,
   "id": "d70cd618",
   "metadata": {},
   "outputs": [
    {
     "name": "stdout",
     "output_type": "stream",
     "text": [
      "<class 'list'>\n"
     ]
    }
   ],
   "source": [
    "import requests\n",
    "\n",
    "response =requests.get('https://dummyjson.com/users')\n",
    "\n",
    "#print(response)\n",
    "#print(response.json())\n",
    "#print(type(response.json()))\n",
    "user_dict = response.json()\n",
    "#print(user_dict)\n",
    "\n",
    "user_List = user_dict['users']\n",
    "print(type(user_List))\n",
    "\n",
    "#for k,v in user_dict():\n",
    "#    print(\"{},{}\".format(k,v))"
   ]
  },
  {
   "cell_type": "code",
   "execution_count": 12,
   "id": "b3177998",
   "metadata": {},
   "outputs": [
    {
     "name": "stdout",
     "output_type": "stream",
     "text": [
      "Terry\n",
      "Sheldon\n",
      "Terrill\n",
      "Miles\n",
      "Mavis\n",
      "Alison\n",
      "Oleta\n",
      "Ewell\n",
      "Demetrius\n",
      "Eleanora\n",
      "Marcel\n",
      "Assunta\n",
      "Trace\n",
      "Enoch\n",
      "Jeanne\n",
      "Trycia\n",
      "Bradford\n",
      "Arely\n",
      "Gust\n",
      "Lenna\n",
      "Doyle\n",
      "Tressa\n",
      "Felicity\n",
      "Jocelyn\n",
      "Edwina\n",
      "Griffin\n",
      "Piper\n",
      "Kody\n",
      "Macy\n",
      "Maurine\n"
     ]
    }
   ],
   "source": [
    "import requests\n",
    "\n",
    "response =requests.get('https://dummyjson.com/users')\n",
    "\n",
    "\n",
    "user_dict = response.json()\n",
    "\n",
    "\n",
    "user_List = user_dict['users']\n",
    "\n",
    "for user in user_List:\n",
    "    #print(type(user))\n",
    "    print(user['firstName'])\n"
   ]
  },
  {
   "cell_type": "code",
   "execution_count": null,
   "id": "3f86e84f",
   "metadata": {},
   "outputs": [],
   "source": []
  }
 ],
 "metadata": {
  "kernelspec": {
   "display_name": "Python 3 (ipykernel)",
   "language": "python",
   "name": "python3"
  },
  "language_info": {
   "codemirror_mode": {
    "name": "ipython",
    "version": 3
   },
   "file_extension": ".py",
   "mimetype": "text/x-python",
   "name": "python",
   "nbconvert_exporter": "python",
   "pygments_lexer": "ipython3",
   "version": "3.7.0"
  }
 },
 "nbformat": 4,
 "nbformat_minor": 5
}
