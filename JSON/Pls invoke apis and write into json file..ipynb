{
 "cells": [
  {
   "cell_type": "code",
   "execution_count": 12,
   "id": "7d5e526f",
   "metadata": {},
   "outputs": [
    {
     "name": "stdout",
     "output_type": "stream",
     "text": [
      "<class 'dict'>\n",
      "<class 'dict'>\n",
      "<class 'dict'>\n",
      "<class 'dict'>\n",
      "<class 'dict'>\n",
      "<class 'dict'>\n",
      "<class 'dict'>\n",
      "<class 'dict'>\n",
      "<class 'dict'>\n",
      "<class 'dict'>\n"
     ]
    }
   ],
   "source": [
    "#Pls invoke apis and write into json file.\n",
    "\n",
    "#https://jsonplaceholder.typicode.com/users\n",
    "\n",
    "import requests   #get\n",
    "\n",
    "import json       \n",
    "#loads() -  json string to python dict- read, \n",
    "#dumps() - pyton dict ot json string - write\n",
    "\n",
    "user_Response = requests.get('https://jsonplaceholder.typicode.com/users')\n",
    "user_List  = user_Response.json()\n",
    "#print(type(user_List))\n",
    "\n",
    "for user in user_List:\n",
    "    print(type(user))"
   ]
  },
  {
   "cell_type": "code",
   "execution_count": null,
   "id": "a0a73610",
   "metadata": {},
   "outputs": [],
   "source": []
  },
  {
   "cell_type": "code",
   "execution_count": 13,
   "id": "f295db81",
   "metadata": {},
   "outputs": [
    {
     "name": "stdout",
     "output_type": "stream",
     "text": [
      "<class 'dict'>\n",
      "<class 'dict'>\n",
      "<class 'dict'>\n",
      "<class 'dict'>\n",
      "<class 'dict'>\n",
      "<class 'dict'>\n",
      "<class 'dict'>\n",
      "<class 'dict'>\n",
      "<class 'dict'>\n",
      "<class 'dict'>\n"
     ]
    }
   ],
   "source": [
    "\n",
    "import requests   #get\n",
    "\n",
    "import json       \n",
    "#loads() -  json string to python dict- read, \n",
    "#dumps() - pyton dict ot json string - write\n",
    "\n",
    "user_Response = requests.get('https://jsonplaceholder.typicode.com/users')\n",
    "user_List  = user_Response.json()\n",
    "#print(type(user_List))\n",
    "\n",
    "for user in user_List:\n",
    "    print(type(user))"
   ]
  },
  {
   "cell_type": "code",
   "execution_count": 17,
   "id": "2400bee1",
   "metadata": {},
   "outputs": [
    {
     "name": "stdout",
     "output_type": "stream",
     "text": [
      "Bret, Email ID:Sincere@april.biz\n",
      "Antonette, Email ID:Shanna@melissa.tv\n",
      "Samantha, Email ID:Nathan@yesenia.net\n",
      "Karianne, Email ID:Julianne.OConner@kory.org\n",
      "Kamren, Email ID:Lucio_Hettinger@annie.ca\n",
      "Leopoldo_Corkery, Email ID:Karley_Dach@jasper.info\n",
      "Elwyn.Skiles, Email ID:Telly.Hoeger@billy.biz\n",
      "Maxime_Nienow, Email ID:Sherwood@rosamond.me\n",
      "Delphine, Email ID:Chaim_McDermott@dana.io\n",
      "Moriah.Stanton, Email ID:Rey.Padberg@karina.biz\n"
     ]
    }
   ],
   "source": [
    "\n",
    "import requests   #get\n",
    "\n",
    "import json       \n",
    "\n",
    "\n",
    "user_Response = requests.get('https://jsonplaceholder.typicode.com/users')\n",
    "user_List  = user_Response.json()\n",
    "\n",
    "\n",
    "for user in user_List:\n",
    "    print(user['username'] + \", Email ID:\" + user['email'])"
   ]
  },
  {
   "cell_type": "code",
   "execution_count": null,
   "id": "6487ea70",
   "metadata": {},
   "outputs": [],
   "source": []
  }
 ],
 "metadata": {
  "kernelspec": {
   "display_name": "Python 3 (ipykernel)",
   "language": "python",
   "name": "python3"
  },
  "language_info": {
   "codemirror_mode": {
    "name": "ipython",
    "version": 3
   },
   "file_extension": ".py",
   "mimetype": "text/x-python",
   "name": "python",
   "nbconvert_exporter": "python",
   "pygments_lexer": "ipython3",
   "version": "3.7.0"
  }
 },
 "nbformat": 4,
 "nbformat_minor": 5
}
