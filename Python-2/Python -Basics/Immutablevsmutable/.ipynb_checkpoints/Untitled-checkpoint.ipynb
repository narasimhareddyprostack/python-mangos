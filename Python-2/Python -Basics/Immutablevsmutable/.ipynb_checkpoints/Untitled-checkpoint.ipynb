{
 "cells": [
  {
   "cell_type": "code",
   "execution_count": 8,
   "id": "4e658dfb",
   "metadata": {},
   "outputs": [
    {
     "name": "stdout",
     "output_type": "stream",
     "text": [
      "101\n",
      "Rahul\n",
      "{'id': 101, 'ename': 'Rahul GAndhi'}\n"
     ]
    }
   ],
   "source": [
    "emp  = { \"id\":101, \"ename\":\"Rahul\"}\n",
    "        \n",
    "print(emp['id'])\n",
    "print(emp['ename'])\n",
    "emp['ename'] = \"Rahul GAndhi\"\n",
    "\n",
    "print(emp)"
   ]
  },
  {
   "cell_type": "code",
   "execution_count": 11,
   "id": "88935d0b",
   "metadata": {},
   "outputs": [
    {
     "name": "stdout",
     "output_type": "stream",
     "text": [
      "[10, 100, 201]\n",
      "b'\\nd\\xc9'\n",
      "bytearray(b'\\nd\\xc9')\n",
      "<class 'list'>\n",
      "<class 'bytes'>\n",
      "<class 'bytearray'>\n",
      "11\n"
     ]
    }
   ],
   "source": [
    "l = [10,100,201]\n",
    "b = bytes(l)   # immutable object\n",
    "ba = bytearray(l) #mutable object\n",
    "\n",
    "print(l)\n",
    "print(b)\n",
    "print(ba)\n",
    "print(type(l))\n",
    "print(type(b))   # \n",
    "print(type(ba))\n",
    "\n",
    "\n",
    "ba[0]  = 11\n",
    "\n",
    "print(ba[0])"
   ]
  },
  {
   "cell_type": "code",
   "execution_count": 13,
   "id": "1f514ddc",
   "metadata": {},
   "outputs": [
    {
     "name": "stdout",
     "output_type": "stream",
     "text": [
      "10\n",
      "7\n",
      "494\n",
      "2748\n"
     ]
    }
   ],
   "source": [
    "a = 10\n",
    "b = 0b111\n",
    "c = 0o756\n",
    "d = 0xABC\n",
    "\n",
    "print(a)\n",
    "print(b)\n",
    "print(c)\n",
    "print(d)"
   ]
  },
  {
   "cell_type": "code",
   "execution_count": 14,
   "id": "5ac1cc06",
   "metadata": {},
   "outputs": [
    {
     "name": "stdout",
     "output_type": "stream",
     "text": [
      "10\n",
      "0b1010\n",
      "0o12\n",
      "0xa\n"
     ]
    }
   ],
   "source": [
    "print(int(10))\n",
    "print(bin(10))\n",
    "print(oct(10))\n",
    "print(hex(10))"
   ]
  },
  {
   "cell_type": "code",
   "execution_count": 15,
   "id": "504b9e92",
   "metadata": {},
   "outputs": [
    {
     "name": "stdout",
     "output_type": "stream",
     "text": [
      "3054\n"
     ]
    }
   ],
   "source": [
    "id = 0XBEE\n",
    "\n",
    "print(id)"
   ]
  },
  {
   "cell_type": "code",
   "execution_count": 16,
   "id": "691d8c7e",
   "metadata": {},
   "outputs": [
    {
     "name": "stdout",
     "output_type": "stream",
     "text": [
      "0xbee\n"
     ]
    }
   ],
   "source": [
    "print(hex(3054))"
   ]
  },
  {
   "cell_type": "code",
   "execution_count": null,
   "id": "0d604fb9",
   "metadata": {},
   "outputs": [],
   "source": []
  }
 ],
 "metadata": {
  "kernelspec": {
   "display_name": "Python 3 (ipykernel)",
   "language": "python",
   "name": "python3"
  },
  "language_info": {
   "codemirror_mode": {
    "name": "ipython",
    "version": 3
   },
   "file_extension": ".py",
   "mimetype": "text/x-python",
   "name": "python",
   "nbconvert_exporter": "python",
   "pygments_lexer": "ipython3",
   "version": "3.7.0"
  }
 },
 "nbformat": 4,
 "nbformat_minor": 5
}
