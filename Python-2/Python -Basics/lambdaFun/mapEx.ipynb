{
 "cells": [
  {
   "cell_type": "code",
   "execution_count": 1,
   "id": "23de36f7",
   "metadata": {},
   "outputs": [
    {
     "name": "stdout",
     "output_type": "stream",
     "text": [
      "[2, 4, 6, 8]\n"
     ]
    }
   ],
   "source": [
    "list1 = [1,2,3,4]\n",
    "def doubleIt(num):\n",
    "    return num * 2\n",
    "\n",
    "\n",
    "m = map(doubleIt, list1)\n",
    "\n",
    "print(list(m))\n"
   ]
  },
  {
   "cell_type": "code",
   "execution_count": 2,
   "id": "89d9e0cf",
   "metadata": {},
   "outputs": [
    {
     "name": "stdout",
     "output_type": "stream",
     "text": [
      "[2, 4, 6, 8]\n"
     ]
    }
   ],
   "source": [
    "m = map(lambda num: num * 2, list1)\n",
    "\n",
    "print(list(m))"
   ]
  },
  {
   "cell_type": "code",
   "execution_count": 3,
   "id": "645a8dc5",
   "metadata": {},
   "outputs": [],
   "source": [
    "enames = [\"Mudassir\", \"Rahul\", \"Anand\", \"Syed\",\"Dev\",\"Ambani\"]"
   ]
  },
  {
   "cell_type": "code",
   "execution_count": null,
   "id": "2d030788",
   "metadata": {},
   "outputs": [],
   "source": []
  },
  {
   "cell_type": "code",
   "execution_count": 6,
   "id": "c4520cd0",
   "metadata": {},
   "outputs": [
    {
     "name": "stdout",
     "output_type": "stream",
     "text": [
      "['MUDASSIR', 'RAHUL', 'ANAND', 'SYED', 'DEV', 'AMBANI']\n"
     ]
    }
   ],
   "source": [
    "enames = [\"mudassir\", \"rahul\", \"anand\", \"syed\",\"dev\",\"ambani\"]\n",
    "\n",
    "def upper_Case_Names(ename):\n",
    "    return ename.upper()\n",
    "\n",
    "result =map(upper_Case_Names, enames)\n",
    "\n",
    "print(list(result))"
   ]
  },
  {
   "cell_type": "code",
   "execution_count": 7,
   "id": "fb934295",
   "metadata": {},
   "outputs": [
    {
     "name": "stdout",
     "output_type": "stream",
     "text": [
      "['MUDASSIR', 'RAHUL', 'ANAND', 'SYED', 'DEV', 'AMBANI']\n"
     ]
    }
   ],
   "source": [
    "enames = [\"mudassir\", \"rahul\", \"anand\", \"syed\",\"dev\",\"ambani\"]\n",
    "\n",
    "\n",
    "print(list(map(lambda ename: ename.upper(), enames)))"
   ]
  },
  {
   "cell_type": "code",
   "execution_count": 8,
   "id": "49cac318",
   "metadata": {},
   "outputs": [
    {
     "name": "stdout",
     "output_type": "stream",
     "text": [
      "['MUDASSIR', 'RAHUL', 'ANAND', 'SYED', 'DEV', 'AMBANI']\n"
     ]
    }
   ],
   "source": [
    "print(list(map(lambda ename: ename.upper(), [\"mudassir\", \"rahul\", \"anand\", \"syed\",\"dev\",\"ambani\"])))"
   ]
  },
  {
   "cell_type": "code",
   "execution_count": 10,
   "id": "87e461ea",
   "metadata": {},
   "outputs": [
    {
     "name": "stdout",
     "output_type": "stream",
     "text": [
      "['MUDASSIR', 'RAHUL', 'ANAND', 'SYED', 'DEV', 'AMBANI']\n"
     ]
    }
   ],
   "source": [
    "enames=[\"mudassir\", \"rahul\", \"anand\", \"syed\",\"dev\",\"ambani\"]\n",
    "\n",
    "new_Enames=[]\n",
    "\n",
    "for ename in enames:\n",
    "    new_Enames.append(ename.upper())\n",
    "    \n",
    "print(new_Enames)"
   ]
  },
  {
   "cell_type": "code",
   "execution_count": 12,
   "id": "eb5cf3e1",
   "metadata": {},
   "outputs": [
    {
     "name": "stdout",
     "output_type": "stream",
     "text": [
      "['MUDASSIR', 'RAHUL', 'ANAND', 'SYED', 'DEV', 'AMBANI']\n"
     ]
    }
   ],
   "source": [
    "enames=[\"mudassir\", \"rahul\", \"anand\", \"syed\",\"dev\",\"ambani\"]\n",
    "\n",
    "def convert_To_Upper(ename):\n",
    "    return ename.upper()\n",
    "result = map(convert_To_Upper,enames)\n",
    "\n",
    "print(list(result))"
   ]
  },
  {
   "cell_type": "code",
   "execution_count": 13,
   "id": "92397f40",
   "metadata": {},
   "outputs": [
    {
     "name": "stdout",
     "output_type": "stream",
     "text": [
      "['MUDASSIR', 'RAHUL', 'ANAND', 'SYED', 'DEV', 'AMBANI']\n"
     ]
    }
   ],
   "source": [
    "enames=[\"mudassir\", \"rahul\", \"anand\", \"syed\",\"dev\",\"ambani\"]\n",
    "\n",
    "\n",
    "print(list(map(lambda ename:ename.upper(), enames)))\n",
    "\n",
    "\n"
   ]
  },
  {
   "cell_type": "code",
   "execution_count": 14,
   "id": "6efe719d",
   "metadata": {},
   "outputs": [
    {
     "name": "stdout",
     "output_type": "stream",
     "text": [
      "[1, 4, 9, 16]\n"
     ]
    }
   ],
   "source": [
    "list1 = [1,2,3,4]\n",
    "\n",
    "print(list(map(lambda num: num*num, list1)))"
   ]
  },
  {
   "cell_type": "code",
   "execution_count": 15,
   "id": "d7e7670e",
   "metadata": {},
   "outputs": [
    {
     "name": "stdout",
     "output_type": "stream",
     "text": [
      "[1, 4, 9, 16]\n"
     ]
    }
   ],
   "source": [
    "list1 = [1,2,3,4]\n",
    "\n",
    "def squareIt(num):\n",
    "    return num * num\n",
    "\n",
    "result= map(squareIt, list1)\n",
    "\n",
    "print(list(result))"
   ]
  },
  {
   "cell_type": "code",
   "execution_count": null,
   "id": "46beb395",
   "metadata": {},
   "outputs": [],
   "source": []
  }
 ],
 "metadata": {
  "kernelspec": {
   "display_name": "Python 3 (ipykernel)",
   "language": "python",
   "name": "python3"
  },
  "language_info": {
   "codemirror_mode": {
    "name": "ipython",
    "version": 3
   },
   "file_extension": ".py",
   "mimetype": "text/x-python",
   "name": "python",
   "nbconvert_exporter": "python",
   "pygments_lexer": "ipython3",
   "version": "3.7.0"
  }
 },
 "nbformat": 4,
 "nbformat_minor": 5
}
