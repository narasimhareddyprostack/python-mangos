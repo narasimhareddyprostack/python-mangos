{
 "cells": [
  {
   "cell_type": "code",
   "execution_count": 2,
   "id": "b3edbeb6",
   "metadata": {},
   "outputs": [
    {
     "name": "stdout",
     "output_type": "stream",
     "text": [
      "{10}\n",
      "<class 'set'>\n"
     ]
    }
   ],
   "source": [
    "s1 = {}\n",
    "\n",
    "\n",
    "s2  = {10}\n",
    "print(s2)\n",
    "\n",
    "print(type(s2))"
   ]
  },
  {
   "cell_type": "code",
   "execution_count": 3,
   "id": "9ab4a687",
   "metadata": {},
   "outputs": [
    {
     "name": "stdout",
     "output_type": "stream",
     "text": [
      "{10, 20, 30}\n"
     ]
    }
   ],
   "source": [
    "s  = {10,20,30, 10,20,30}\n",
    "\n",
    "print(s)"
   ]
  },
  {
   "cell_type": "code",
   "execution_count": 4,
   "id": "34614926",
   "metadata": {},
   "outputs": [
    {
     "name": "stdout",
     "output_type": "stream",
     "text": [
      "{'Rahul', 500.5, 101, True}\n"
     ]
    }
   ],
   "source": [
    "enames = {101, \"Rahul\",500.5, True}\n",
    "\n",
    "print(enames)"
   ]
  },
  {
   "cell_type": "code",
   "execution_count": 5,
   "id": "d0d06b6f",
   "metadata": {},
   "outputs": [
    {
     "name": "stdout",
     "output_type": "stream",
     "text": [
      "True\n"
     ]
    }
   ],
   "source": [
    "enames = {101, \"Rahul\",500.5, True}\n",
    "\n",
    "print(101 in enames)"
   ]
  },
  {
   "cell_type": "code",
   "execution_count": 7,
   "id": "7692f380",
   "metadata": {},
   "outputs": [
    {
     "name": "stdout",
     "output_type": "stream",
     "text": [
      "{'id': 101, 'name': 'Rahul'}\n",
      "<class 'dict'>\n"
     ]
    }
   ],
   "source": [
    "emp = {\"id\":101, \"name\":\"Rahul\"}\n",
    "\n",
    "print(emp)\n",
    "print(type(emp))"
   ]
  },
  {
   "cell_type": "code",
   "execution_count": 8,
   "id": "3d3884aa",
   "metadata": {},
   "outputs": [
    {
     "name": "stdout",
     "output_type": "stream",
     "text": [
      "True\n"
     ]
    }
   ],
   "source": [
    "emp = {\"id\":101, \"name\":\"Rahul\"}\n",
    "\n",
    "print(\"id\" in  emp)"
   ]
  },
  {
   "cell_type": "code",
   "execution_count": 10,
   "id": "c0b84c25",
   "metadata": {},
   "outputs": [
    {
     "name": "stdout",
     "output_type": "stream",
     "text": [
      "True\n"
     ]
    }
   ],
   "source": [
    "ename = \"Rahul Gandhi Joodo Yatra\"\n",
    "\n",
    "print(\"Rahul\"  in ename)"
   ]
  },
  {
   "cell_type": "code",
   "execution_count": 12,
   "id": "9e46c8dd",
   "metadata": {},
   "outputs": [
    {
     "name": "stdout",
     "output_type": "stream",
     "text": [
      "{'id': 101, 'name': 'Rahul'}\n",
      "101\n",
      "Rahul\n"
     ]
    }
   ],
   "source": [
    "emp = {\"id\":101, \"name\":\"Rahul\"}\n",
    "\n",
    "print(emp)\n",
    "#print dict values \n",
    "\n",
    "print(emp['id'])\n",
    "\n",
    "print(emp['name'])"
   ]
  },
  {
   "cell_type": "code",
   "execution_count": null,
   "id": "cdd059df",
   "metadata": {},
   "outputs": [],
   "source": []
  }
 ],
 "metadata": {
  "kernelspec": {
   "display_name": "Python 3 (ipykernel)",
   "language": "python",
   "name": "python3"
  },
  "language_info": {
   "codemirror_mode": {
    "name": "ipython",
    "version": 3
   },
   "file_extension": ".py",
   "mimetype": "text/x-python",
   "name": "python",
   "nbconvert_exporter": "python",
   "pygments_lexer": "ipython3",
   "version": "3.7.0"
  }
 },
 "nbformat": 4,
 "nbformat_minor": 5
}
