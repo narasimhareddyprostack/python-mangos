{
 "cells": [
  {
   "cell_type": "code",
   "execution_count": 2,
   "id": "9e669c0d",
   "metadata": {},
   "outputs": [
    {
     "name": "stdout",
     "output_type": "stream",
     "text": [
      "False\n",
      "True\n"
     ]
    }
   ],
   "source": [
    "a = 100\n",
    "\n",
    "b = [100,200,300]\n",
    "\n",
    "c = (10,20)\n",
    "\n",
    "d = {1,2,3}\n",
    "\n",
    "e = \"Rahul\"\n",
    "\n",
    "f  = e \n",
    "\n",
    "print(a is b)\n",
    "\n",
    "\n",
    "print(e is f)"
   ]
  },
  {
   "cell_type": "code",
   "execution_count": null,
   "id": "17d1b44c",
   "metadata": {},
   "outputs": [],
   "source": []
  }
 ],
 "metadata": {
  "kernelspec": {
   "display_name": "Python 3 (ipykernel)",
   "language": "python",
   "name": "python3"
  },
  "language_info": {
   "codemirror_mode": {
    "name": "ipython",
    "version": 3
   },
   "file_extension": ".py",
   "mimetype": "text/x-python",
   "name": "python",
   "nbconvert_exporter": "python",
   "pygments_lexer": "ipython3",
   "version": "3.7.0"
  }
 },
 "nbformat": 4,
 "nbformat_minor": 5
}
