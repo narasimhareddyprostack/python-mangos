{
 "cells": [
  {
   "cell_type": "code",
   "execution_count": 2,
   "id": "60055219",
   "metadata": {},
   "outputs": [
    {
     "name": "stdout",
     "output_type": "stream",
     "text": [
      "[101, 200, 150, 900]\n"
     ]
    }
   ],
   "source": [
    "list1=[10,101,2,200,150,900,75]\n",
    "\n",
    "def filter_Data(num):\n",
    "    if num > 100:\n",
    "        return num\n",
    "\n",
    "print(list(filter(filter_Data, list1)))"
   ]
  },
  {
   "cell_type": "code",
   "execution_count": 3,
   "id": "a9107bed",
   "metadata": {},
   "outputs": [
    {
     "name": "stdout",
     "output_type": "stream",
     "text": [
      "30\n"
     ]
    }
   ],
   "source": [
    "#lambda - no name\n",
    "\n",
    "def add(a,b):\n",
    "    return a+b\n",
    "\n",
    "\n",
    "result = add(10,20)\n",
    "print(result)"
   ]
  },
  {
   "cell_type": "code",
   "execution_count": 4,
   "id": "700d56a5",
   "metadata": {},
   "outputs": [
    {
     "name": "stdout",
     "output_type": "stream",
     "text": [
      "30\n"
     ]
    }
   ],
   "source": [
    "devfun=lambda a,b:a+b\n",
    "\n",
    "print(devfun(10,20))\n"
   ]
  },
  {
   "cell_type": "code",
   "execution_count": 5,
   "id": "f7ddac38",
   "metadata": {},
   "outputs": [
    {
     "name": "stdout",
     "output_type": "stream",
     "text": [
      "[101, 200, 150, 900]\n"
     ]
    }
   ],
   "source": [
    "\n",
    "list1=[10,101,2,200,150,900,75]\n",
    "\n",
    "print(list(filter(lambda num: num> 100, list1)))\n",
    "\n",
    "\n",
    "\n"
   ]
  },
  {
   "cell_type": "code",
   "execution_count": null,
   "id": "24381648",
   "metadata": {},
   "outputs": [],
   "source": []
  }
 ],
 "metadata": {
  "kernelspec": {
   "display_name": "Python 3 (ipykernel)",
   "language": "python",
   "name": "python3"
  },
  "language_info": {
   "codemirror_mode": {
    "name": "ipython",
    "version": 3
   },
   "file_extension": ".py",
   "mimetype": "text/x-python",
   "name": "python",
   "nbconvert_exporter": "python",
   "pygments_lexer": "ipython3",
   "version": "3.7.0"
  }
 },
 "nbformat": 4,
 "nbformat_minor": 5
}
