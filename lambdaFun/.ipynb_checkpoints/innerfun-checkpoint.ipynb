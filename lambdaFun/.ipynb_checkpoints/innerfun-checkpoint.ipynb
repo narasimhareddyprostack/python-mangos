{
 "cells": [
  {
   "cell_type": "code",
   "execution_count": 1,
   "id": "24c88c13",
   "metadata": {},
   "outputs": [
    {
     "name": "stdout",
     "output_type": "stream",
     "text": [
      "outer function\n",
      "outer function\n"
     ]
    }
   ],
   "source": [
    "def outer():\n",
    "    print(\"outer function\")\n",
    "    def inner():\n",
    "        print(\"Inner Function\")\n",
    "\n",
    "\n",
    "\n",
    "outer()\n",
    "outer()"
   ]
  },
  {
   "cell_type": "code",
   "execution_count": 2,
   "id": "65d4b915",
   "metadata": {},
   "outputs": [
    {
     "name": "stdout",
     "output_type": "stream",
     "text": [
      "outer function\n",
      "outer function\n"
     ]
    }
   ],
   "source": [
    "def outer():\n",
    "    print(\"outer function\")\n",
    "    \n",
    "    def inner():\n",
    "        print(\"Inner Function\")\n",
    "\n",
    "\n",
    "\n",
    "outer()\n",
    "outer()"
   ]
  },
  {
   "cell_type": "code",
   "execution_count": 5,
   "id": "683f9675",
   "metadata": {},
   "outputs": [
    {
     "name": "stdout",
     "output_type": "stream",
     "text": [
      "outer function\n",
      "Inner Function\n",
      "Inner Function\n",
      "Inner Function\n"
     ]
    }
   ],
   "source": [
    "def outer():\n",
    "    print(\"outer function\")\n",
    "    def inner():\n",
    "        print(\"Inner Function\")\n",
    "    inner()\n",
    "    inner()\n",
    "    inner()\n",
    "\n",
    "\n",
    "outer()\n"
   ]
  },
  {
   "cell_type": "code",
   "execution_count": 8,
   "id": "33f78320",
   "metadata": {},
   "outputs": [
    {
     "name": "stdout",
     "output_type": "stream",
     "text": [
      "function name : wish\n",
      "function name : wish\n"
     ]
    }
   ],
   "source": [
    "#function aliasing \n",
    "\n",
    "def wish():\n",
    "    print(\"function name : wish\")\n",
    "    \n",
    "#wish()\n",
    "greet = wish\n",
    "\n",
    "greet()\n",
    "wish()\n",
    "\n"
   ]
  },
  {
   "cell_type": "code",
   "execution_count": 9,
   "id": "50f52949",
   "metadata": {},
   "outputs": [
    {
     "name": "stdout",
     "output_type": "stream",
     "text": [
      "5856040\n",
      "5856040\n"
     ]
    }
   ],
   "source": [
    "def wish():\n",
    "    print(\"function name : wish\")\n",
    "    \n",
    "#wish()\n",
    "greet = wish\n",
    "\n",
    "print(id(greet))\n",
    "print(id(wish))"
   ]
  },
  {
   "cell_type": "code",
   "execution_count": 10,
   "id": "44b0729e",
   "metadata": {},
   "outputs": [
    {
     "name": "stdout",
     "output_type": "stream",
     "text": [
      "function name : wish\n",
      "function name : wish\n"
     ]
    }
   ],
   "source": [
    "def wish():\n",
    "    print(\"function name : wish\")\n",
    "    \n",
    "#function aliasing\n",
    "greet = wish  \n",
    "\n",
    "greet()\n",
    "wish()"
   ]
  },
  {
   "cell_type": "code",
   "execution_count": 13,
   "id": "33b4a00a",
   "metadata": {},
   "outputs": [
    {
     "name": "stdout",
     "output_type": "stream",
     "text": [
      "function name : wish\n"
     ]
    }
   ],
   "source": [
    "def wish():\n",
    "    print(\"function name : wish\")\n",
    "    \n",
    "#function aliasing\n",
    "greet = wish\n",
    "\n",
    "del wish\n",
    "\n",
    "#wish()\n",
    "greet()"
   ]
  },
  {
   "cell_type": "code",
   "execution_count": 14,
   "id": "3ac0f521",
   "metadata": {},
   "outputs": [
    {
     "name": "stdout",
     "output_type": "stream",
     "text": [
      "Outer Function\n"
     ]
    },
    {
     "ename": "NameError",
     "evalue": "name 'inner' is not defined",
     "output_type": "error",
     "traceback": [
      "\u001b[1;31m---------------------------------------------------------------------------\u001b[0m",
      "\u001b[1;31mNameError\u001b[0m                                 Traceback (most recent call last)",
      "\u001b[1;32m~\\AppData\\Local\\Temp\\ipykernel_20456\\1366039122.py\u001b[0m in \u001b[0;36m<module>\u001b[1;34m\u001b[0m\n\u001b[0;32m      8\u001b[0m \u001b[1;33m\u001b[0m\u001b[0m\n\u001b[0;32m      9\u001b[0m \u001b[0mouter\u001b[0m\u001b[1;33m(\u001b[0m\u001b[1;33m)\u001b[0m\u001b[1;33m\u001b[0m\u001b[0m\n\u001b[1;32m---> 10\u001b[1;33m \u001b[0minner\u001b[0m\u001b[1;33m(\u001b[0m\u001b[1;33m)\u001b[0m\u001b[1;33m\u001b[0m\u001b[0m\n\u001b[0m",
      "\u001b[1;31mNameError\u001b[0m: name 'inner' is not defined"
     ]
    }
   ],
   "source": [
    "def outer():\n",
    "    print(\"Outer Function\")\n",
    "    \n",
    "    def inner():\n",
    "        print(\"Inner Function\")\n",
    "        \n",
    "\n",
    "    \n",
    "outer()\n",
    "inner()"
   ]
  },
  {
   "cell_type": "code",
   "execution_count": 16,
   "id": "2596b1f2",
   "metadata": {},
   "outputs": [
    {
     "name": "stdout",
     "output_type": "stream",
     "text": [
      "Outer Function\n",
      "Inner Function\n",
      "Inner Function\n",
      "Inner Function\n",
      "Inner Function\n",
      "Inner Function\n"
     ]
    }
   ],
   "source": [
    "def outer():\n",
    "    print(\"Outer Function\")\n",
    "    \n",
    "    def inner():\n",
    "        print(\"Inner Function\")\n",
    "        \n",
    "    return inner\n",
    "    \n",
    "inner=outer()\n",
    "inner()\n",
    "inner()\n",
    "\n",
    "inner()\n",
    "\n",
    "inner()\n",
    "inner()"
   ]
  },
  {
   "cell_type": "code",
   "execution_count": 17,
   "id": "3f31fc9f",
   "metadata": {},
   "outputs": [
    {
     "name": "stdout",
     "output_type": "stream",
     "text": [
      "Outer Function\n",
      "104727440\n",
      "104726864\n"
     ]
    }
   ],
   "source": [
    "def outer():\n",
    "    print(\"Outer Function\")\n",
    "    \n",
    "    def inner():\n",
    "        print(\"Inner Function\")\n",
    "        \n",
    "    return inner\n",
    "    \n",
    "inner=outer()\n",
    "\n",
    "print(id(outer))\n",
    "print(id(inner))"
   ]
  },
  {
   "cell_type": "code",
   "execution_count": null,
   "id": "74ab2056",
   "metadata": {},
   "outputs": [],
   "source": []
  }
 ],
 "metadata": {
  "kernelspec": {
   "display_name": "Python 3 (ipykernel)",
   "language": "python",
   "name": "python3"
  },
  "language_info": {
   "codemirror_mode": {
    "name": "ipython",
    "version": 3
   },
   "file_extension": ".py",
   "mimetype": "text/x-python",
   "name": "python",
   "nbconvert_exporter": "python",
   "pygments_lexer": "ipython3",
   "version": "3.7.0"
  }
 },
 "nbformat": 4,
 "nbformat_minor": 5
}
