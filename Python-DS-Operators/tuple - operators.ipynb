{
 "cells": [
  {
   "cell_type": "code",
   "execution_count": 3,
   "id": "f2a0e220",
   "metadata": {},
   "outputs": [
    {
     "name": "stdout",
     "output_type": "stream",
     "text": [
      "()\n",
      "('Rahul', 'Sonia', 'Priyanka')\n",
      "Rahul\n",
      "Sonia\n",
      "Priyanka\n",
      "Priyanka\n"
     ]
    }
   ],
   "source": [
    "t1  = ()\n",
    "t2 = (\"Rahul\",\"Sonia\",\"Priyanka\")\n",
    "\n",
    "print(t1)\n",
    "\n",
    "print(t2)\n",
    "\n",
    "print(t2[0])\n",
    "\n",
    "print(t2[1])\n",
    "\n",
    "print(t2[2])\n",
    "\n",
    "\n",
    "print(t2[-1])\n"
   ]
  },
  {
   "cell_type": "code",
   "execution_count": 4,
   "id": "082dd8d6",
   "metadata": {},
   "outputs": [
    {
     "ename": "TypeError",
     "evalue": "'tuple' object does not support item assignment",
     "output_type": "error",
     "traceback": [
      "\u001b[1;31m---------------------------------------------------------------------------\u001b[0m",
      "\u001b[1;31mTypeError\u001b[0m                                 Traceback (most recent call last)",
      "\u001b[1;32m~\\AppData\\Local\\Temp\\ipykernel_21636\\2377006535.py\u001b[0m in \u001b[0;36m<module>\u001b[1;34m\u001b[0m\n\u001b[0;32m      2\u001b[0m \u001b[1;33m\u001b[0m\u001b[0m\n\u001b[0;32m      3\u001b[0m \u001b[1;33m\u001b[0m\u001b[0m\n\u001b[1;32m----> 4\u001b[1;33m \u001b[0menames\u001b[0m\u001b[1;33m[\u001b[0m\u001b[1;36m0\u001b[0m\u001b[1;33m]\u001b[0m  \u001b[1;33m=\u001b[0m \u001b[1;34m\"Rahul Gandhi\"\u001b[0m\u001b[1;33m\u001b[0m\u001b[0m\n\u001b[0m\u001b[0;32m      5\u001b[0m \u001b[1;33m\u001b[0m\u001b[0m\n\u001b[0;32m      6\u001b[0m \u001b[1;33m\u001b[0m\u001b[0m\n",
      "\u001b[1;31mTypeError\u001b[0m: 'tuple' object does not support item assignment"
     ]
    }
   ],
   "source": [
    "enames = (\"Rahul\",\"Sonia\",\"Priyanka\")\n",
    "\n",
    "\n",
    "enames[0]  = \"Rahul Gandhi\"\n",
    "\n",
    "\n",
    "print(enames)"
   ]
  },
  {
   "cell_type": "code",
   "execution_count": 5,
   "id": "43e90270",
   "metadata": {},
   "outputs": [
    {
     "name": "stdout",
     "output_type": "stream",
     "text": [
      "True\n"
     ]
    }
   ],
   "source": [
    "enames= (\"Rahul\",\"Sonia\",\"Priyanka\")\n",
    "\n",
    "\n",
    "\n",
    "print(\"Rahul\"  in enames)"
   ]
  },
  {
   "cell_type": "code",
   "execution_count": null,
   "id": "3b436126",
   "metadata": {},
   "outputs": [],
   "source": []
  }
 ],
 "metadata": {
  "kernelspec": {
   "display_name": "Python 3 (ipykernel)",
   "language": "python",
   "name": "python3"
  },
  "language_info": {
   "codemirror_mode": {
    "name": "ipython",
    "version": 3
   },
   "file_extension": ".py",
   "mimetype": "text/x-python",
   "name": "python",
   "nbconvert_exporter": "python",
   "pygments_lexer": "ipython3",
   "version": "3.7.0"
  }
 },
 "nbformat": 4,
 "nbformat_minor": 5
}
