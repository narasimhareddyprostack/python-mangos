{
 "cells": [
  {
   "cell_type": "code",
   "execution_count": 2,
   "id": "8c412721",
   "metadata": {},
   "outputs": [
    {
     "name": "stdout",
     "output_type": "stream",
     "text": [
      "['Dev', 'Jagdesh', 'Syed', 'Mano']\n",
      "[]\n",
      "[35, 36, 36, 37, 35]\n"
     ]
    }
   ],
   "source": [
    "enames = [\"Dev\",\"Jagdesh\",\"Syed\",\"Mano\"]\n",
    "\n",
    "print(enames)\n",
    "\n",
    "size = []  #empty list object \n",
    "\n",
    "marks =[35,36,36,37,35]  # allowed duplicats\n",
    "\n",
    "print(size)\n",
    "print(marks)"
   ]
  },
  {
   "cell_type": "code",
   "execution_count": 3,
   "id": "cab6a417",
   "metadata": {},
   "outputs": [
    {
     "name": "stdout",
     "output_type": "stream",
     "text": [
      "[10, 20.5, True, 'Rahul', 10, {10, 20}]\n"
     ]
    }
   ],
   "source": [
    "l1 = [10, 20.5, True, \"Rahul\", (10), {10,20}]\n",
    "\n",
    "#List - allowed heterogenous elemetn and duplicats \n",
    "print(l1)  "
   ]
  },
  {
   "cell_type": "code",
   "execution_count": 6,
   "id": "f768a809",
   "metadata": {},
   "outputs": [
    {
     "name": "stdout",
     "output_type": "stream",
     "text": [
      "[10, 20, 30, 40]\n",
      "10\n",
      "20\n",
      "30\n",
      "40\n",
      "-ve indexing is possible\n",
      "40\n",
      "30\n",
      "20\n",
      "10\n"
     ]
    }
   ],
   "source": [
    "l = [10,20,30,40]\n",
    "\n",
    "print(l)\n",
    "\n",
    "print(l[0])\n",
    "print(l[1])\n",
    "print(l[2])\n",
    "print(l[3])\n",
    "\n",
    "#print(l[4])\n",
    "#print(l[5])\n",
    "\n",
    "print(\"-ve indexing is possible\")\n",
    "print(l[-1])\n",
    "print(l[-2])\n",
    "print(l[-3])\n",
    "print(l[-4])\n"
   ]
  },
  {
   "cell_type": "code",
   "execution_count": 8,
   "id": "edbba441",
   "metadata": {},
   "outputs": [
    {
     "name": "stdout",
     "output_type": "stream",
     "text": [
      "True\n",
      "False\n"
     ]
    }
   ],
   "source": [
    "enames = [\"Rahul\",\"Sonia\",\"Priyanka\",\"Modi\",\"shaw\"]\n",
    "\n",
    "print(\"Rahul\"  in enames)\n",
    "\n",
    "print(\"PK\" in enames)"
   ]
  },
  {
   "cell_type": "code",
   "execution_count": null,
   "id": "a608cbb3",
   "metadata": {},
   "outputs": [],
   "source": []
  }
 ],
 "metadata": {
  "kernelspec": {
   "display_name": "Python 3 (ipykernel)",
   "language": "python",
   "name": "python3"
  },
  "language_info": {
   "codemirror_mode": {
    "name": "ipython",
    "version": 3
   },
   "file_extension": ".py",
   "mimetype": "text/x-python",
   "name": "python",
   "nbconvert_exporter": "python",
   "pygments_lexer": "ipython3",
   "version": "3.7.0"
  }
 },
 "nbformat": 4,
 "nbformat_minor": 5
}
