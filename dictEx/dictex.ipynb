{
 "cells": [
  {
   "cell_type": "code",
   "execution_count": 1,
   "id": "56b61dbf",
   "metadata": {},
   "outputs": [
    {
     "name": "stdout",
     "output_type": "stream",
     "text": [
      "{}\n",
      "<class 'dict'>\n"
     ]
    }
   ],
   "source": [
    "e1  = {}\n",
    "\n",
    "print(e1)\n",
    "print(type(e1))"
   ]
  },
  {
   "cell_type": "code",
   "execution_count": 2,
   "id": "3e377d36",
   "metadata": {},
   "outputs": [
    {
     "name": "stdout",
     "output_type": "stream",
     "text": [
      "{'id': 101, 'name': 'Rahul Gandhi', 'sal': 450000}\n"
     ]
    }
   ],
   "source": [
    "emp  = {  \"id\":101, \"name\":\"Rahul Gandhi\", \"sal\": 450000}\n",
    "\n",
    "\n",
    "print(emp)"
   ]
  },
  {
   "cell_type": "code",
   "execution_count": 3,
   "id": "9891f2d0",
   "metadata": {},
   "outputs": [
    {
     "name": "stdout",
     "output_type": "stream",
     "text": [
      "{}\n",
      "<class 'dict'>\n"
     ]
    }
   ],
   "source": [
    "e2 = dict()\n",
    "\n",
    "print(e2)\n",
    "\n",
    "print(type(e2))"
   ]
  },
  {
   "cell_type": "code",
   "execution_count": 4,
   "id": "1d2d9aed",
   "metadata": {},
   "outputs": [
    {
     "name": "stdout",
     "output_type": "stream",
     "text": [
      "{'id': 101, 'name': 'Rahul Gandhi', 'sal': 50000}\n"
     ]
    }
   ],
   "source": [
    "emp  = {}\n",
    "\n",
    "\n",
    "emp['id']  = 101\n",
    "\n",
    "emp['name'] = \"Rahul Gandhi\"\n",
    "\n",
    "emp['sal'] = 50000\n",
    "\n",
    "print(emp)"
   ]
  },
  {
   "cell_type": "code",
   "execution_count": 5,
   "id": "7fb0adc1",
   "metadata": {},
   "outputs": [
    {
     "name": "stdout",
     "output_type": "stream",
     "text": [
      "{'id': 101, 'name': 'Rahul', 'sal': 55000}\n"
     ]
    }
   ],
   "source": [
    "emp  = { 'id':101, \"name\":\"Rahul\", \"sal\": 45000, \"sal\": 55000}\n",
    "\n",
    "print(emp)"
   ]
  },
  {
   "cell_type": "code",
   "execution_count": 6,
   "id": "9bcc911d",
   "metadata": {},
   "outputs": [
    {
     "name": "stdout",
     "output_type": "stream",
     "text": [
      "{'id': 101, 'name': 'Rahul', 'sal1': 45000, 'sal2': 45000}\n"
     ]
    }
   ],
   "source": [
    "emp  = { 'id':101, \"name\":\"Rahul\", \"sal1\": 45000, \"sal2\": 45000}\n",
    "\n",
    "print(emp)"
   ]
  },
  {
   "cell_type": "code",
   "execution_count": 9,
   "id": "31165cd5",
   "metadata": {},
   "outputs": [
    {
     "name": "stdout",
     "output_type": "stream",
     "text": [
      "101\n",
      "Rahul\n"
     ]
    }
   ],
   "source": [
    "emp  = { 'id':101, \"name\":\"Rahul\", \"sal1\": 45000, \"sal2\": 45000}\n",
    "\n",
    "#print(emp[0]) err \n",
    "\n",
    "print(emp['id'])\n",
    "print(emp['name'])"
   ]
  },
  {
   "cell_type": "code",
   "execution_count": 10,
   "id": "387829c1",
   "metadata": {},
   "outputs": [
    {
     "name": "stdout",
     "output_type": "stream",
     "text": [
      "id\n",
      "name\n",
      "sal1\n",
      "sal2\n"
     ]
    }
   ],
   "source": [
    "emp  = { 'id':101, \"name\":\"Rahul\", \"sal1\": 45000, \"sal2\": 45000}\n",
    "\n",
    "\n",
    "for key in emp:\n",
    "    print(key)"
   ]
  },
  {
   "cell_type": "code",
   "execution_count": 11,
   "id": "0d01dff4",
   "metadata": {},
   "outputs": [
    {
     "name": "stdout",
     "output_type": "stream",
     "text": [
      "101\n",
      "Rahul\n",
      "45000\n",
      "45000\n"
     ]
    }
   ],
   "source": [
    "emp  = { 'id':101, \"name\":\"Rahul\", \"sal1\": 45000, \"sal2\": 45000}\n",
    "\n",
    "\n",
    "for key in emp:\n",
    "    print(emp[key])"
   ]
  },
  {
   "cell_type": "code",
   "execution_count": 12,
   "id": "dd499e38",
   "metadata": {},
   "outputs": [
    {
     "name": "stdout",
     "output_type": "stream",
     "text": [
      "id : 101\n",
      "name : Rahul\n",
      "sal1 : 45000\n",
      "sal2 : 45000\n"
     ]
    }
   ],
   "source": [
    "emp  = { 'id':101, \"name\":\"Rahul\", \"sal1\": 45000, \"sal2\": 45000}\n",
    "\n",
    "\n",
    "for key in emp:\n",
    "    print(key, \":\", emp[key])"
   ]
  },
  {
   "cell_type": "code",
   "execution_count": 14,
   "id": "376ea454",
   "metadata": {},
   "outputs": [
    {
     "name": "stdout",
     "output_type": "stream",
     "text": [
      "dict_keys(['id', 'name', 'sal'])\n",
      "dict_values([101, 'Rahul Gandhi', 450000])\n"
     ]
    }
   ],
   "source": [
    "emp ={'id': 101, 'name': 'Rahul Gandhi', 'sal': 450000}\n",
    "\n",
    "k = emp.keys()\n",
    "v = emp.values()\n",
    "\n",
    "print(k)\n",
    "print(v)"
   ]
  },
  {
   "cell_type": "code",
   "execution_count": 18,
   "id": "7c3908e0",
   "metadata": {},
   "outputs": [
    {
     "name": "stdout",
     "output_type": "stream",
     "text": [
      "3\n"
     ]
    }
   ],
   "source": [
    "emp ={'id': 101, 'name': 'Rahul Gandhi', 'sal': 450000}\n",
    "\n",
    "\n",
    "print(len(emp))\n"
   ]
  },
  {
   "cell_type": "code",
   "execution_count": 21,
   "id": "c00b0d0e",
   "metadata": {},
   "outputs": [
    {
     "name": "stdout",
     "output_type": "stream",
     "text": [
      "4\n",
      "2\n",
      "3\n",
      "2\n"
     ]
    }
   ],
   "source": [
    "l1 = [10,20,30,40]\n",
    "t1 = (10,20)\n",
    "s1 = {10,20,30,10,20,30}\n",
    "\n",
    "d1 = {\"id\":101, \"name\":\"Rahul\"}\n",
    "print(len(l1))  #  4\n",
    "print(len(t1))  # 2 \n",
    "print(len(s1))  \n",
    "print(len(d1))   #0"
   ]
  },
  {
   "cell_type": "code",
   "execution_count": 24,
   "id": "6a148c44",
   "metadata": {},
   "outputs": [
    {
     "name": "stdout",
     "output_type": "stream",
     "text": [
      "{'name': 'Rahul Gandhi'}\n"
     ]
    }
   ],
   "source": [
    "emp ={'id': 101, 'name': 'Rahul Gandhi', 'sal': 450000}\n",
    "\n",
    "emp.pop('id')\n",
    "emp.popitem()\n",
    "\n",
    "print(emp)"
   ]
  },
  {
   "cell_type": "code",
   "execution_count": 27,
   "id": "78fec270",
   "metadata": {},
   "outputs": [
    {
     "name": "stdout",
     "output_type": "stream",
     "text": [
      "{'p_Id': 101, 'p_Name': 'Iphone', 'p_price': 45000, 'color': 'red'}\n",
      "{'p_Id': 101, 'p_Name': 'Iphone', 'p_price': 45000}\n",
      "{'p_Id': 101, 'p_Name': 'Iphone'}\n"
     ]
    }
   ],
   "source": [
    "product = {}\n",
    "product['p_Id']  = 101\n",
    "product['p_Name']  = \"Iphone\"\n",
    "product['p_price']  = 45000\n",
    "product['color']  = \"red\"\n",
    "\n",
    "print(product)\n",
    "\n",
    "product.popitem()\n",
    "print(product)\n",
    "product.popitem()\n",
    "\n",
    "print(product)"
   ]
  },
  {
   "cell_type": "code",
   "execution_count": 28,
   "id": "962fae7b",
   "metadata": {},
   "outputs": [
    {
     "name": "stdout",
     "output_type": "stream",
     "text": [
      "{'p_Id': 101, 'p_Name': 'Iphone', 'p_price': 45000, 'color': 'red'}\n",
      "{}\n"
     ]
    }
   ],
   "source": [
    "product = {}\n",
    "product['p_Id']  = 101\n",
    "product['p_Name']  = \"Iphone\"\n",
    "product['p_price']  = 45000\n",
    "product['color']  = \"red\"\n",
    "\n",
    "print(product)\n",
    "\n",
    "product.clear()\n",
    "\n",
    "print(product)"
   ]
  },
  {
   "cell_type": "code",
   "execution_count": 29,
   "id": "347ddac7",
   "metadata": {},
   "outputs": [
    {
     "ename": "NameError",
     "evalue": "name 'product' is not defined",
     "output_type": "error",
     "traceback": [
      "\u001b[1;31m---------------------------------------------------------------------------\u001b[0m",
      "\u001b[1;31mNameError\u001b[0m                                 Traceback (most recent call last)",
      "\u001b[1;32m~\\AppData\\Local\\Temp\\ipykernel_4464\\3073327820.py\u001b[0m in \u001b[0;36m<module>\u001b[1;34m\u001b[0m\n\u001b[0;32m      8\u001b[0m \u001b[1;32mdel\u001b[0m \u001b[0mproduct\u001b[0m\u001b[1;33m\u001b[0m\u001b[0m\n\u001b[0;32m      9\u001b[0m \u001b[1;33m\u001b[0m\u001b[0m\n\u001b[1;32m---> 10\u001b[1;33m \u001b[0mprint\u001b[0m\u001b[1;33m(\u001b[0m\u001b[0mproduct\u001b[0m\u001b[1;33m)\u001b[0m\u001b[1;33m\u001b[0m\u001b[0m\n\u001b[0m",
      "\u001b[1;31mNameError\u001b[0m: name 'product' is not defined"
     ]
    }
   ],
   "source": [
    "product = {}\n",
    "product['p_Id']  = 101\n",
    "product['p_Name']  = \"Iphone\"\n",
    "product['p_price']  = 45000\n",
    "product['color']  = \"red\"\n",
    "\n",
    "\n",
    "del product\n",
    "\n",
    "print(product)"
   ]
  },
  {
   "cell_type": "code",
   "execution_count": null,
   "id": "c3237bf4",
   "metadata": {},
   "outputs": [],
   "source": []
  }
 ],
 "metadata": {
  "kernelspec": {
   "display_name": "Python 3 (ipykernel)",
   "language": "python",
   "name": "python3"
  },
  "language_info": {
   "codemirror_mode": {
    "name": "ipython",
    "version": 3
   },
   "file_extension": ".py",
   "mimetype": "text/x-python",
   "name": "python",
   "nbconvert_exporter": "python",
   "pygments_lexer": "ipython3",
   "version": "3.7.0"
  }
 },
 "nbformat": 4,
 "nbformat_minor": 5
}
