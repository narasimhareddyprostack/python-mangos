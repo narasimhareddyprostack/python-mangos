{
 "cells": [
  {
   "cell_type": "code",
   "execution_count": 1,
   "id": "f0cef398",
   "metadata": {},
   "outputs": [
    {
     "name": "stdout",
     "output_type": "stream",
     "text": [
      "Eligible For Marriage\n"
     ]
    }
   ],
   "source": [
    "sal = 45000\n",
    "\n",
    "if sal >  40000:\n",
    "    print(\"Eligible For Marriage\")"
   ]
  },
  {
   "cell_type": "code",
   "execution_count": 2,
   "id": "630ff8e2",
   "metadata": {},
   "outputs": [],
   "source": [
    "sal = 15000\n",
    "\n",
    "if sal >  40000:\n",
    "    print(\"Eligible For Marriage\")"
   ]
  },
  {
   "cell_type": "code",
   "execution_count": 3,
   "id": "261bf19c",
   "metadata": {},
   "outputs": [
    {
     "name": "stdout",
     "output_type": "stream",
     "text": [
      "Not Eligible\n"
     ]
    }
   ],
   "source": [
    "sal = 15000\n",
    "\n",
    "if sal >  40000:\n",
    "    print(\"Eligible For Marriage\")\n",
    "else:\n",
    "    print(\"Not Eligible\")"
   ]
  },
  {
   "cell_type": "code",
   "execution_count": null,
   "id": "db1fa07f",
   "metadata": {},
   "outputs": [],
   "source": [
    "ename = input(\"Enter Employee Name:\")\n",
    "\n",
    "if ename ==\"Priyanka\":\n",
    "    print(\"Belongs Congress:\")\n",
    "elif ename ==\"Modi\":\n",
    "    print(\"BJP\")\n",
    "elif ename ==\"Rahul\":\n",
    "    print(\"Future PM\")\n",
    "else:\n",
    "    print(\"Belong voter\")"
   ]
  },
  {
   "cell_type": "code",
   "execution_count": null,
   "id": "fb78adae",
   "metadata": {},
   "outputs": [],
   "source": [
    "ename = input(\"Enter Employee Name:\")\n",
    "\n",
    "if ename ==\"Priyanka\":\n",
    "    print(\"Belongs Congress:\")\n",
    "elif ename ==\"Modi\":\n",
    "    print(\"BJP\")\n",
    "elif ename ==\"Rahul\":\n",
    "    print(\"Future PM\")\n",
    "else:\n",
    "    print(\"Belong voter\")"
   ]
  },
  {
   "cell_type": "code",
   "execution_count": null,
   "id": "3c66c033",
   "metadata": {},
   "outputs": [],
   "source": [
    "ename = input(\"Enter Employee Name:\")\n",
    "\n",
    "if ename ==\"Priyanka\":\n",
    "    print(\"Belongs Congress:\")\n",
    "elif ename ==\"Modi\":\n",
    "    print(\"BJP\")\n",
    "elif ename ==\"Rahul\":\n",
    "    print(\"Future PM\")\n",
    "else:\n",
    "    print(\"Belong voter\")"
   ]
  },
  {
   "cell_type": "code",
   "execution_count": null,
   "id": "8baafde7",
   "metadata": {},
   "outputs": [],
   "source": []
  },
  {
   "cell_type": "code",
   "execution_count": null,
   "id": "6a58fc22",
   "metadata": {},
   "outputs": [],
   "source": []
  }
 ],
 "metadata": {
  "kernelspec": {
   "display_name": "Python 3 (ipykernel)",
   "language": "python",
   "name": "python3"
  },
  "language_info": {
   "codemirror_mode": {
    "name": "ipython",
    "version": 3
   },
   "file_extension": ".py",
   "mimetype": "text/x-python",
   "name": "python",
   "nbconvert_exporter": "python",
   "pygments_lexer": "ipython3",
   "version": "3.7.0"
  }
 },
 "nbformat": 4,
 "nbformat_minor": 5
}
