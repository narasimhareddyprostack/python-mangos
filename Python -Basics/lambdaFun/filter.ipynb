{
 "cells": [
  {
   "cell_type": "code",
   "execution_count": 3,
   "id": "a70cbdde",
   "metadata": {},
   "outputs": [
    {
     "name": "stdout",
     "output_type": "stream",
     "text": [
      "['anand', 'ambani']\n"
     ]
    }
   ],
   "source": [
    "enames = [\"mudassir\", \"rahul\", \"anand\", \"syed\",\"dev\",\"ambani\"]\n",
    "\n",
    "def vowel_Names(ename):\n",
    "     if ename[0] in 'aeiou':\n",
    "            return True \n",
    "     else:\n",
    "        return False\n",
    "        \n",
    "    \n",
    "    \n",
    "print(list(filter(vowel_Names, enames)))"
   ]
  },
  {
   "cell_type": "code",
   "execution_count": 4,
   "id": "c47dec4a",
   "metadata": {},
   "outputs": [
    {
     "name": "stdout",
     "output_type": "stream",
     "text": [
      "['anand', 'ambani']\n"
     ]
    }
   ],
   "source": [
    "enames = [\"mudassir\", \"rahul\", \"anand\", \"syed\",\"dev\",\"ambani\"]\n",
    "\n",
    "def vowel_Names(ename):\n",
    "     if ename[0] in 'aeiou':\n",
    "            return True \n",
    "     else:\n",
    "        return False\n",
    "        \n",
    "    \n",
    "    \n",
    "print(list(filter(vowel_Names, enames)))"
   ]
  },
  {
   "cell_type": "code",
   "execution_count": 6,
   "id": "39b102af",
   "metadata": {},
   "outputs": [
    {
     "name": "stdout",
     "output_type": "stream",
     "text": [
      "True\n"
     ]
    }
   ],
   "source": [
    "print('a' in 'aeiou')"
   ]
  },
  {
   "cell_type": "code",
   "execution_count": 8,
   "id": "a058eeca",
   "metadata": {},
   "outputs": [
    {
     "name": "stdout",
     "output_type": "stream",
     "text": [
      "True\n"
     ]
    }
   ],
   "source": [
    "vowel = 'aeiou'\n",
    "\n",
    "result = 'a' in vowel\n",
    "\n",
    "print(result)"
   ]
  },
  {
   "cell_type": "code",
   "execution_count": 9,
   "id": "768e82e4",
   "metadata": {},
   "outputs": [
    {
     "name": "stdout",
     "output_type": "stream",
     "text": [
      "True\n"
     ]
    }
   ],
   "source": [
    "print( 10 in [10,20,30])"
   ]
  },
  {
   "cell_type": "code",
   "execution_count": null,
   "id": "bbc24d16",
   "metadata": {},
   "outputs": [],
   "source": []
  }
 ],
 "metadata": {
  "kernelspec": {
   "display_name": "Python 3 (ipykernel)",
   "language": "python",
   "name": "python3"
  },
  "language_info": {
   "codemirror_mode": {
    "name": "ipython",
    "version": 3
   },
   "file_extension": ".py",
   "mimetype": "text/x-python",
   "name": "python",
   "nbconvert_exporter": "python",
   "pygments_lexer": "ipython3",
   "version": "3.7.0"
  }
 },
 "nbformat": 4,
 "nbformat_minor": 5
}
